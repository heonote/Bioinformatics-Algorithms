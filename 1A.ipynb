{
 "cells": [
  {
   "cell_type": "markdown",
   "metadata": {},
   "source": [
    "### 빈번하게 나오는 단어 찾기\n",
    "\n",
    "길이가 k인 문자열에서 A라는 패턴이 얼마나 나오는지?\n",
    "\n",
    "```\n",
    "def PatternCount(Text,Pattern):\n",
    "    count = 0 \n",
    "    for i in range(0,len(Text)-len(Pattern)+1):\n",
    "        if Text[i:i+len(Pattern)]=Pattern:\n",
    "            count += 1\n",
    "    return count\n",
    "\n",
    "```\n"
   ]
  },
  {
   "cell_type": "code",
   "execution_count": null,
   "metadata": {},
   "outputs": [],
   "source": [
    "def PatternCount(Text,Pattern):\n",
    "    count = 0 \n",
    "    for i in range(0,len(Text)-len(Pattern)+1):\n",
    "        if Text[i:i+len(Pattern)]==Pattern:\n",
    "            count += 1\n",
    "    return count\n",
    "\n",
    "Text='ACTACTACTACT'\n",
    "Pattern='ACT'\n",
    "Text2 = 'ACTTCAACTTCA'\n",
    "\n",
    "print(PatternCount(Text,Pattern))\n",
    "print(PatternCount(Text2,Pattern))\n"
   ]
  }
 ],
 "metadata": {
  "interpreter": {
   "hash": "e922dd073470bdcc017ae3abd31d6491d6ed7bf31c1d559806e5511bfea88b81"
  },
  "kernelspec": {
   "display_name": "Python 3.9.7 64-bit",
   "language": "python",
   "name": "python3"
  },
  "language_info": {
   "name": "python",
   "version": "3.9.7"
  },
  "orig_nbformat": 4
 },
 "nbformat": 4,
 "nbformat_minor": 2
}
