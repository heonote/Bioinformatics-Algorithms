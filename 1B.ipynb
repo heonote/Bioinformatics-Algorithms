{
 "cells": [
  {
   "cell_type": "markdown",
   "metadata": {},
   "source": []
  },
  {
   "cell_type": "code",
   "execution_count": null,
   "metadata": {},
   "outputs": [],
   "source": [
    "def FrequentWords(Text,k):\n",
    "    FrequentPatterns = set()\n",
    "    count = []\n",
    "    for i in range(0,len(Text)-k+1):\n",
    "        Pattern = Text[i:i+k]\n",
    "        count.append(PatternCount(Text,Pattern))\n",
    "    maxcount=max(count)\n",
    "    for i in range(0,len(Text)-k+1):\n",
    "        if count[i]==maxcount:\n",
    "            FrequentPatterns.add(Text[i:i+k])\n",
    "    return FrequentPatterns\n",
    "\n",
    "FrequentWords('ACTGACTTAACTGGCCACT',4)\n"
   ]
  },
  {
   "cell_type": "markdown",
   "metadata": {},
   "source": [
    "###  Vibrio Cholerae의 빈번한 단어\n",
    "\n",
    "```python\n",
    "\n",
    "file_path= 'C:\\python\\Bio algorithm\\chap1\\Vibrio.txt'\n",
    "genome = open(file_path).read()\n",
    "\n",
    "for i in range(3,10):\n",
    "    k_mer=FrequentWords(genome,i)\n",
    "    count=Pattern\n",
    "    Count(genome,k_mer)\n",
    "    print(\"k:{},k-mer:{},count:{}\".format(i,k_mer,count))\n",
    "```"
   ]
  },
  {
   "cell_type": "code",
   "execution_count": null,
   "metadata": {},
   "outputs": [],
   "source": [
    "file_path= 'C:\\python\\Bio algorithm\\chap1\\Vibrio.txt'\n",
    "genome = open(file_path).read()\n",
    "\n",
    "for i in range(3,10):\n",
    "    k_mer=FrequentWords(genome,i)\n",
    "    count=PatternCount(genome,k_mer)\n",
    "    print(\"k:{},k-mer:{}\".format(i,k_mer))\n"
   ]
  }
 ],
 "metadata": {
  "interpreter": {
   "hash": "e922dd073470bdcc017ae3abd31d6491d6ed7bf31c1d559806e5511bfea88b81"
  },
  "kernelspec": {
   "display_name": "Python 3.9.7 64-bit",
   "language": "python",
   "name": "python3"
  },
  "language_info": {
   "name": "python",
   "version": "3.9.7"
  },
  "orig_nbformat": 4
 },
 "nbformat": 4,
 "nbformat_minor": 2
}
