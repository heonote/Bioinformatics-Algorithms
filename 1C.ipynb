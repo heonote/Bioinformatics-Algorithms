{
 "cells": [
  {
   "cell_type": "markdown",
   "metadata": {},
   "source": [
    "### 역상보 문제\n",
    "DNA는 방향성이 존재하며 상보적 가닥은 주형 가닥과 반대 방향으로 진행된다.\n",
    "각 가닥은 5'  에서 3'방향으로 읽는다. \n",
    "뉴클레오타이드 p가 주어졌을 때에 역상보 서열을 찾아라.\n",
    "\n",
    "<span style = 'color:red'>'ATGATCAAG'의 역상보 서열을 찾으시오</span>\n",
    "\n",
    "```python\n",
    "def find_complement(DNA):\n",
    "    complement=''\n",
    "    for i in DNA:\n",
    "        comp={'A':'T', 'T':'A', 'C':'G', 'G':'C'}[i]\n",
    "        complement+=comp\n",
    "    return complement[::-1]\n",
    "\n",
    "```"
   ]
  },
  {
   "cell_type": "code",
   "execution_count": 2,
   "metadata": {},
   "outputs": [
    {
     "data": {
      "text/plain": [
       "'CTTGATCAT'"
      ]
     },
     "execution_count": 2,
     "metadata": {},
     "output_type": "execute_result"
    }
   ],
   "source": [
    "def FindComplement(DNA):\n",
    "    complement=''\n",
    "    for i in DNA:\n",
    "        comp={'A':'T', 'T':'A', 'C':'G', 'G':'C'}[i]\n",
    "        complement+=comp\n",
    "    return complement[::-1]\n",
    "    \n",
    "        \n",
    "        \n",
    "        \n",
    "FindComplement('ATGATCAAG')"
   ]
  },
  {
   "cell_type": "code",
   "execution_count": null,
   "metadata": {},
   "outputs": [],
   "source": []
  }
 ],
 "metadata": {
  "interpreter": {
   "hash": "e922dd073470bdcc017ae3abd31d6491d6ed7bf31c1d559806e5511bfea88b81"
  },
  "kernelspec": {
   "display_name": "Python 3.9.7 64-bit",
   "language": "python",
   "name": "python3"
  },
  "language_info": {
   "codemirror_mode": {
    "name": "ipython",
    "version": 3
   },
   "file_extension": ".py",
   "mimetype": "text/x-python",
   "name": "python",
   "nbconvert_exporter": "python",
   "pygments_lexer": "ipython3",
   "version": "3.9.7"
  },
  "orig_nbformat": 4
 },
 "nbformat": 4,
 "nbformat_minor": 2
}
