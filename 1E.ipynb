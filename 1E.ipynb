{
 "cells": [
  {
   "cell_type": "markdown",
   "metadata": {},
   "source": [
    "### 새로운 염기서열에서 ori찾기\n",
    "\n",
    "새롭게 염기 서열이 밝혀진 박테리아 유전체에서 ori를 찾을때에, \n",
    "\n",
    "기존에 알고 있는 ori는 도움이 되지 않는다. 새로운 유전체는\n",
    "\n",
    "완전히 다른 숨겨진 메세지를 사용할 수 있기 때문이다.\n",
    "\n",
    "### 유전체의 짧은 간격 안에서 여러 번 반복이 일어나는 k-mer : 군집\n",
    " 길이 L의 k-mer 패턴이 t번 나타나는 경우 (L,t)군집을 형성한다고 볼 수 있음\n",
    "\n",
    "<span style = 'color:red'> 문자열에서 군집을 형성하는 패턴을 찾으시오</span>\n",
    "- __입력__ : 문자열 유전체, 정수k,L,t\n",
    "- __출력__ : 유전체에서 (L,t) - 군집을 형성하는 모든 k-mer\n"
   ]
  },
  {
   "cell_type": "code",
   "execution_count": 1,
   "metadata": {},
   "outputs": [],
   "source": [
    "def ClusterFinding(genome,k,L,t):\n",
    "    # L : window_size, t: minimm time\n",
    "    freq_patterns = set()\n",
    "    freq_dict=dict()\n",
    "    \n",
    "    for i in range(L-k+1):\n",
    "        k_mer = genome[i:i+k]\n",
    "        if k_mer in freq_dict:\n",
    "            freq_dict[k_mer]+=1\n",
    "        else:\n",
    "            freq_dict[k_mer] = 1\n",
    "            \n",
    "    for k_mer, freq in freq_dict.items():\n",
    "        if freq >= t:\n",
    "            freq_patterns.add(k_mer)\n",
    "\n",
    "    end = L # the rightest of the window\n",
    "    while end < len(genome):\n",
    "        start = end - L # the leftest of the window\n",
    "        #rm_k_mer = genome[start:start+k]\n",
    "        #freq_dict[rm_k_mer] -= 1\n",
    "        add_k_mer = genome[end-k+1:end+1]\n",
    "        if add_k_mer in freq_dict:\n",
    "            freq_dict[add_k_mer] += 1\n",
    "        else:\n",
    "            freq_dict[add_k_mer] = 1\n",
    "        if freq_dict[add_k_mer] >= t:\n",
    "            freq_patterns.add(add_k_mer)\n",
    "        end += 1\n",
    "        \n",
    "    return freq_patterns        "
   ]
  },
  {
   "cell_type": "code",
   "execution_count": 2,
   "metadata": {},
   "outputs": [],
   "source": [
    "from collections import defaultdict\n",
    "\n",
    "def ClusterFinding2(genome,k,L,t):\n",
    "    Patterns = set()\n",
    "    n=len(genome)\n",
    "    for i in range(0,n-L):\n",
    "        freqtable=defaultdict(int)\n",
    "        Window = genome[i:i+L]\n",
    "        for j in range(0,L-k):\n",
    "            k_mer =  Window[j:j+k]\n",
    "            freqtable[k_mer] += 1\n",
    "        \n",
    "            for mer in freqtable.keys():\n",
    "                if freqtable[mer] >= t:\n",
    "                    Patterns.add(mer)\n",
    "                \n",
    "    return Patterns"
   ]
  },
  {
   "cell_type": "code",
   "execution_count": 3,
   "metadata": {},
   "outputs": [
    {
     "data": {
      "text/plain": [
       "{'TGCA'}"
      ]
     },
     "execution_count": 3,
     "metadata": {},
     "output_type": "execute_result"
    }
   ],
   "source": [
    "genome = 'GATCAGCATAAGGGTCCCTGCAATGCATGACAAGCCTGCAGTTGTTTTAC'\n",
    "k=4\n",
    "L=25\n",
    "t=3\n",
    "\n",
    "ClusterFinding(genome,k,L,t)"
   ]
  },
  {
   "cell_type": "code",
   "execution_count": 4,
   "metadata": {},
   "outputs": [
    {
     "data": {
      "text/plain": [
       "{'TGCA'}"
      ]
     },
     "execution_count": 4,
     "metadata": {},
     "output_type": "execute_result"
    }
   ],
   "source": [
    "genome = 'GATCAGCATAAGGGTCCCTGCAATGCATGACAAGCCTGCAGTTGTTTTAC'\n",
    "k=4\n",
    "L=25\n",
    "t=3\n",
    "\n",
    "ClusterFinding2(genome,k,L,t)"
   ]
  },
  {
   "cell_type": "code",
   "execution_count": 5,
   "metadata": {},
   "outputs": [
    {
     "data": {
      "text/plain": [
       "{'AATGT', 'CGACA', 'GAAGA'}"
      ]
     },
     "execution_count": 5,
     "metadata": {},
     "output_type": "execute_result"
    }
   ],
   "source": [
    "genome='CGGACTCGACAGATGTGAAGAAATGTGAAGACTGAGTGAAGAGAAGAGGAAACACGACACGACATTGCGACATAATGTACGAATGTAATGTGCCTATGGC'\n",
    "k=5\n",
    "L=75\n",
    "t=4\n",
    "\n",
    "ClusterFinding(genome,k,L,t)"
   ]
  },
  {
   "cell_type": "code",
   "execution_count": 6,
   "metadata": {},
   "outputs": [
    {
     "data": {
      "text/plain": [
       "{'AATGT', 'CGACA', 'GAAGA'}"
      ]
     },
     "execution_count": 6,
     "metadata": {},
     "output_type": "execute_result"
    }
   ],
   "source": [
    "genome='CGGACTCGACAGATGTGAAGAAATGTGAAGACTGAGTGAAGAGAAGAGGAAACACGACACGACATTGCGACATAATGTACGAATGTAATGTGCCTATGGC'\n",
    "k=5\n",
    "L=75\n",
    "t=4\n",
    "\n",
    "ClusterFinding2(genome,k,L,t)"
   ]
  },
  {
   "cell_type": "code",
   "execution_count": null,
   "metadata": {},
   "outputs": [],
   "source": []
  }
 ],
 "metadata": {
  "interpreter": {
   "hash": "e922dd073470bdcc017ae3abd31d6491d6ed7bf31c1d559806e5511bfea88b81"
  },
  "kernelspec": {
   "display_name": "Python 3.9.7 64-bit",
   "language": "python",
   "name": "python3"
  },
  "language_info": {
   "codemirror_mode": {
    "name": "ipython",
    "version": 3
   },
   "file_extension": ".py",
   "mimetype": "text/x-python",
   "name": "python",
   "nbconvert_exporter": "python",
   "pygments_lexer": "ipython3",
   "version": "3.9.7"
  },
  "orig_nbformat": 4
 },
 "nbformat": 4,
 "nbformat_minor": 2
}
