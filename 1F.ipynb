{
 "cells": [
  {
   "cell_type": "markdown",
   "metadata": {},
   "source": [
    "### DNA 복제 기점의 우연\n",
    "\n",
    "대장균 유전체를 실험적으로 검증된 복제 말단에서 시작해 대략 100,000 뉴클레오티드의 46개 조각에서 시토신 비율을 계산해보면\n",
    "\n",
    "역방향 반가닥 조각은 대부분 시토신 비율이 25%이상을 보였고, 정방향 조각은 25%미만을 보였다.\n",
    "\n",
    "우리는 ori의 위치를 알지 못하더라도 GC의 비율 통계를 시각화하여 그 위치를 대략 구할 수 있다."
   ]
  },
  {
   "cell_type": "markdown",
   "metadata": {},
   "source": [
    "### 탈 아민화\n",
    "\n",
    "복제가 진행될 때 DNA중합효소는 3` -> 5' 로 움직임으로 정방향 반가닥에서 지연으로 느리게 합성된다는 것을 알 수있다.\n",
    "\n",
    "역방향 반가닥의 복제가 빠르게 진행되므로 복제 기간의 대부분은 이중가닥으로 존재한다.\n",
    "\n",
    "정방향 반가닥은 복제의 주형으로 사용되기를 기다리며 훨씬 많은 기간동안 단일 가닥 상태로 존재한다.\n",
    "\n",
    "단일 가닥 DNA는 이중 가닥 DNA보다 돌연변이가 나타날 확률이 높다.\n",
    "\n",
    "단일 가닥 DNA에서 돌연변이의 경향성을 확인하려면 정방향 반가닥에서 뉴클레오타이드의 개수를 비교하면 된다.\n",
    "\n",
    "특히 시토신이 탈아민화라는 과정을 통해 티민으로 변하는 경향이 있기 때문에 C와 T의 개수 차이가 많이난다.\n",
    "\n",
    "정방향 반가닥에서 시토신이 감소해 일치하지 않는 염기쌍인 T-G를 만들게 되고 이러한 mismatch쌍은  다음 복제 때 T-A쌍으로 복제되어 변이가 일어날 수 있다.\n",
    "\n",
    "<span style = 'color:red'> 이는 역방향 반가닥에서 구아닌의 수가 감소한 이유를 설명할 수 있다.</span>\n"
   ]
  },
  {
   "cell_type": "markdown",
   "metadata": {},
   "source": [
    "### 구아닌 시토신의 비율로 복제 기점 찾기\n",
    "\n",
    "G와 C의 총량간의 차이는 정방향 반가닥에서는 양수, 역방향 반가닥에서 음수이다.\n",
    "\n",
    "차이가 증가하기 시작하면 정방향 반가닥, 반대로 차이가 줄어들면 역방향 반가닥에 있다고 생각할 수 있다."
   ]
  },
  {
   "cell_type": "markdown",
   "metadata": {},
   "source": [
    "### <span style = 'color : green'> 최소 비대칭 문제 </span>\n",
    "비대칭 다이어 그램이 최소가 되는 유전체의 위치를 찾으시오\n",
    "\n",
    "- 입력 : DNA 문자열 유전체\n",
    "- 출력 : i의 모든 값 중 SKEW(Genome)을 최소화하는 모든 정수i"
   ]
  },
  {
   "cell_type": "code",
   "execution_count": 2,
   "metadata": {},
   "outputs": [],
   "source": [
    "def FindOriSkew(Genome):\n",
    "    count=0\n",
    "    skew_list=[0]\n",
    "    for i in Genome:\n",
    "        if i == 'C':\n",
    "            count -= 1\n",
    "        elif i == 'G':\n",
    "            count += 1\n",
    "        else:\n",
    "            count += 0\n",
    "        skew_list.append(count)\n",
    "    min_skew = min(skew_list)\n",
    "    return [index for index,score in enumerate(skew_list) if score == min_skew]"
   ]
  },
  {
   "cell_type": "code",
   "execution_count": 3,
   "metadata": {},
   "outputs": [
    {
     "data": {
      "text/plain": [
       "[53, 97]"
      ]
     },
     "execution_count": 3,
     "metadata": {},
     "output_type": "execute_result"
    }
   ],
   "source": [
    "Genome='CCTATCGGTGGATTAGCATGTCCCTGTACGTTTCGCCGCGAACTAGTTCACACGGCTTGATGGCAAATGGTTTTTCCGGCGACCGTAATCGTCCACCGAG'\n",
    "FindOriSkew(Genome)"
   ]
  },
  {
   "cell_type": "code",
   "execution_count": null,
   "metadata": {},
   "outputs": [],
   "source": []
  }
 ],
 "metadata": {
  "interpreter": {
   "hash": "e922dd073470bdcc017ae3abd31d6491d6ed7bf31c1d559806e5511bfea88b81"
  },
  "kernelspec": {
   "display_name": "Python 3.9.7 64-bit",
   "language": "python",
   "name": "python3"
  },
  "language_info": {
   "codemirror_mode": {
    "name": "ipython",
    "version": 3
   },
   "file_extension": ".py",
   "mimetype": "text/x-python",
   "name": "python",
   "nbconvert_exporter": "python",
   "pygments_lexer": "ipython3",
   "version": "3.9.7"
  },
  "orig_nbformat": 4
 },
 "nbformat": 4,
 "nbformat_minor": 2
}
