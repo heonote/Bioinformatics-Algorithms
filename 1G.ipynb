{
 "cells": [
  {
   "cell_type": "markdown",
   "metadata": {},
   "source": [
    "Dna는 약간의 변형에도 결합할 수 있다.\n",
    "\n",
    "k-mer의 p1, p2, ... , pk dhk q1, q2, ... , qk의 위치 i에서 pi != qi이면 mismatch하다고 한다.\n",
    "\n",
    "p와q에서 미스매치 개수를 해밍거리 라고 하며 HammingDistance(p,q)로 나타낼 수 있다.\n",
    "\n",
    "### <span style = 'color:green'> 해밍거리문제 </span>\n",
    "\n",
    "두 문자열에서 해밍 거리를 구하시오\n",
    "\n",
    "- 입력: 같은 길이의 두 문자열\n",
    "- 출력: 두 문자열의 해밍 거리"
   ]
  },
  {
   "cell_type": "code",
   "execution_count": 1,
   "metadata": {},
   "outputs": [],
   "source": [
    "def HammingDistnace(P,Q):\n",
    "    distance=0\n",
    "    if len(P) != len(Q):\n",
    "        print(\"The size of the two DNA aren't same!\")\n",
    "    \n",
    "    else:\n",
    "        for i in range (0,len(P)):\n",
    "            if P[i] == Q[i]:\n",
    "                distance += 0\n",
    "            else:\n",
    "                distance += 1  \n",
    "                \n",
    "    return distance"
   ]
  },
  {
   "cell_type": "code",
   "execution_count": 2,
   "metadata": {},
   "outputs": [
    {
     "data": {
      "text/plain": [
       "3"
      ]
     },
     "execution_count": 2,
     "metadata": {},
     "output_type": "execute_result"
    }
   ],
   "source": [
    "P='GGGCCGTTGGT'\n",
    "Q='GGACCGTTGAC'\n",
    "\n",
    "HammingDistnace(P,Q)"
   ]
  },
  {
   "cell_type": "code",
   "execution_count": null,
   "metadata": {},
   "outputs": [],
   "source": []
  }
 ],
 "metadata": {
  "interpreter": {
   "hash": "e922dd073470bdcc017ae3abd31d6491d6ed7bf31c1d559806e5511bfea88b81"
  },
  "kernelspec": {
   "display_name": "Python 3.9.7 64-bit",
   "language": "python",
   "name": "python3"
  },
  "language_info": {
   "codemirror_mode": {
    "name": "ipython",
    "version": 3
   },
   "file_extension": ".py",
   "mimetype": "text/x-python",
   "name": "python",
   "nbconvert_exporter": "python",
   "pygments_lexer": "ipython3",
   "version": "3.9.7"
  },
  "orig_nbformat": 4
 },
 "nbformat": 4,
 "nbformat_minor": 2
}
