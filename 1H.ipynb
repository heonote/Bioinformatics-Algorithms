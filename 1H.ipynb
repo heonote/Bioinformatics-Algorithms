{
 "cells": [
  {
   "cell_type": "markdown",
   "metadata": {},
   "source": [
    "문자열 Text의 k-mer 하위 문자열 Pattern`과 Pattern 사이의 미스매치가 d개 이하일 때,\n",
    "\n",
    "즉 HammingDistance(Pattern,Pattern`) <= d 일 때\n",
    "\n",
    "이 k-mer Pattern이 Text의 하위 문자열로 나타난다고 말한다.\n",
    "\n",
    "Dna 상자에서 약간의 변이가 가능하다는 관찰 결과를 통해 패턴 일치 문제를 다음으로 일반화 할 수 있다.\n",
    "\n",
    "### <span style = 'color:green'> 대략적인 패턴 일치 문제 </span>\n",
    "\n",
    "문자열에서 대략적인 모든 가능한 패턴을 찾으시오 \n",
    "\n",
    "- 입력: 문자열 Pattern과 Text 정수 d\n",
    "- 출력: Text에서 하위 서열로 Pattern이 나타나는 시작 위치, 최대 d개 만큼의 mismatch를 허용한다."
   ]
  },
  {
   "cell_type": "code",
   "execution_count": 1,
   "metadata": {},
   "outputs": [],
   "source": [
    "def HammingDistnace(P,Q):\n",
    "    distance=0\n",
    "    if len(P) != len(Q):\n",
    "        print(\"The size of the two DNA aren't same!\")\n",
    "    \n",
    "    else:\n",
    "        for i in range (0,len(P)):\n",
    "            if P[i] == Q[i]:\n",
    "                distance += 0\n",
    "            else:\n",
    "                distance += 1  \n",
    "                \n",
    "    return distance\n",
    "\n",
    "\n",
    "def PatternCheck(Text,Pattern,d):\n",
    "    k = len(Pattern)\n",
    "    start_positions = []\n",
    "    for i in range (0,len(Text)-k+1):\n",
    "        Pattern2 = Text[i:i+k]\n",
    "        dist = HammingDistnace(Pattern,Pattern2)\n",
    "        if dist <= d:\n",
    "            start_positions.append(i)\n",
    "            \n",
    "    return [count for index,count in enumerate(start_positions)]"
   ]
  },
  {
   "cell_type": "code",
   "execution_count": 2,
   "metadata": {},
   "outputs": [
    {
     "data": {
      "text/plain": [
       "[6, 7, 26, 27, 78]"
      ]
     },
     "execution_count": 2,
     "metadata": {},
     "output_type": "execute_result"
    }
   ],
   "source": [
    "Pattern = 'ATTCTGGA'\n",
    "Text = 'CGCCCGAATCCAGAACGCATTCCCATATTTCGGGACCACTGGCCTCCACGGTACGGACGTCAATCAAATGCCTAGCGGCTTGTGGTTTCTCCTACGCTCC'\n",
    "d=3\n",
    "\n",
    "PatternCheck(Text,Pattern,d)"
   ]
  },
  {
   "cell_type": "code",
   "execution_count": null,
   "metadata": {},
   "outputs": [],
   "source": []
  }
 ],
 "metadata": {
  "interpreter": {
   "hash": "e922dd073470bdcc017ae3abd31d6491d6ed7bf31c1d559806e5511bfea88b81"
  },
  "kernelspec": {
   "display_name": "Python 3.9.7 64-bit",
   "language": "python",
   "name": "python3"
  },
  "language_info": {
   "codemirror_mode": {
    "name": "ipython",
    "version": 3
   },
   "file_extension": ".py",
   "mimetype": "text/x-python",
   "name": "python",
   "nbconvert_exporter": "python",
   "pygments_lexer": "ipython3",
   "version": "3.9.7"
  },
  "orig_nbformat": 4
 },
 "nbformat": 4,
 "nbformat_minor": 2
}
