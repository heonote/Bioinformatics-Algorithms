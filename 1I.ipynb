{
 "cells": [
  {
   "cell_type": "markdown",
   "metadata": {},
   "source": [
    "미스매치를 허용하면서 DnaA 상자에서 자주 나타나는 k-mer를 찾는 것이 목표다.\n",
    "\n",
    "주어진 Text,Pattern, d를 사용하여 Text에서 Pattern이 최대 d개의 미스매치를 보이는 발생 횟수를\n",
    "\n",
    "Count_d(Text,Pattern)로 정의하겠다.\n",
    "\n",
    "예를들어 'AACAAGCATAAACATTAAAGAG'에서 'AAAAA'는\n",
    "\n",
    "'AACAA', 'ATAAA', 'AAACA', 'AAAGA'로 최대 네 번 나타난다.\n",
    "\n",
    "'AAAAA'는 'AACAAGCATAAACATTAAAGAG'에서 __한 번의 미스매치를 허용했을 때__ 가장 빈번한 <span style =  'color : yellow' > 5-mer </span> 이다."
   ]
  },
  {
   "cell_type": "code",
   "execution_count": 15,
   "metadata": {},
   "outputs": [],
   "source": [
    "def HammingDistnace(P,Q):\n",
    "    distance=0\n",
    "    if len(P) != len(Q):\n",
    "        print(\"The size of the two DNA aren't same!\")\n",
    "    \n",
    "    else:\n",
    "        for i in range (0,len(P)):\n",
    "            if P[i] == Q[i]:\n",
    "                distance += 0\n",
    "            else:\n",
    "                distance += 1  \n",
    "                \n",
    "    return distance\n",
    "\n",
    "def ApproximatePatternCount(Text,Pattern,d):\n",
    "    count=0\n",
    "    for i in range (0,len(Text)-len(Pattern)+1):\n",
    "        Pattern2 = Text[i:i+len(Pattern)]\n",
    "        if HammingDistnace(Pattern,Pattern2) <= d:\n",
    "            count += 1\n",
    "            \n",
    "    return count\n",
    "\n",
    "\n",
    "def ApproximatePatternIndex(Text,Pattern,d):\n",
    "    Indexes=[]\n",
    "    for i in range (0,len(Text)-len(Pattern)+1):\n",
    "        Pattern2 = Text[i:i+len(Pattern)]\n",
    "        if HammingDistnace(Pattern,Pattern2) <= d:\n",
    "            Indexes.append(i)\n",
    "            \n",
    "    return Indexes"
   ]
  },
  {
   "cell_type": "code",
   "execution_count": 2,
   "metadata": {},
   "outputs": [
    {
     "data": {
      "text/plain": [
       "4"
      ]
     },
     "execution_count": 2,
     "metadata": {},
     "output_type": "execute_result"
    }
   ],
   "source": [
    "ApproximatePatternCount('AACAAGCATAAACATTAAAGAG','AAAAA',1)"
   ]
  },
  {
   "cell_type": "code",
   "execution_count": 5,
   "metadata": {},
   "outputs": [
    {
     "data": {
      "text/plain": [
       "[0, 7, 9, 16]"
      ]
     },
     "execution_count": 5,
     "metadata": {},
     "output_type": "execute_result"
    }
   ],
   "source": [
    "ApproximatePatternIndex('AACAAGCATAAACATTAAAGAG','AAAAA',1)"
   ]
  },
  {
   "cell_type": "markdown",
   "metadata": {},
   "source": [
    "### <span style = 'color:green'> 미스매치가 있는 빈번한 단어 문제 </span>\n",
    "\n",
    "문자열에서 미스매치를 포함한 가장 빈번한 k-mer를 찾으시오\n",
    "\n",
    "- 입력: 문자열 Text와 정수k와 d\n",
    "- 출력: Text에서 최대 d개의 미스매치를 가진 가장 빈번한 k-mer 모두\n"
   ]
  },
  {
   "cell_type": "code",
   "execution_count": 1,
   "metadata": {},
   "outputs": [],
   "source": [
    "nucleotide ={\n",
    "    'A',\n",
    "    'C',\n",
    "    'G',\n",
    "    'T'\n",
    "}"
   ]
  },
  {
   "cell_type": "code",
   "execution_count": 4,
   "metadata": {},
   "outputs": [],
   "source": [
    "def ImmediateNeighbors(Pattern):\n",
    "    Neighborhood = set()\n",
    "    for i in range(0,len(Pattern)):\n",
    "        symbol = Pattern[i]\n",
    "        for X in nucleotide:\n",
    "            if X == symbol:\n",
    "                continue\n",
    "            if X != symbol:\n",
    "                Neighbor = Pattern[0:i]+X+Pattern[i+1:]\n",
    "            Neighborhood.add(Neighbor)\n",
    "            \n",
    "    return Neighborhood"
   ]
  },
  {
   "cell_type": "code",
   "execution_count": 5,
   "metadata": {},
   "outputs": [
    {
     "data": {
      "text/plain": [
       "{'AAAC',\n",
       " 'AAAG',\n",
       " 'AAAT',\n",
       " 'AACA',\n",
       " 'AAGA',\n",
       " 'AATA',\n",
       " 'ACAA',\n",
       " 'AGAA',\n",
       " 'ATAA',\n",
       " 'CAAA',\n",
       " 'GAAA',\n",
       " 'TAAA'}"
      ]
     },
     "execution_count": 5,
     "metadata": {},
     "output_type": "execute_result"
    }
   ],
   "source": [
    "ImmediateNeighbors('AAAA')"
   ]
  },
  {
   "cell_type": "code",
   "execution_count": 22,
   "metadata": {},
   "outputs": [],
   "source": [
    "def Neighbors(Pattern,d):\n",
    "    if d==0:\n",
    "        return Pattern\n",
    "    if len(Pattern) == 1:\n",
    "        return {'A','C','G','T'}\n",
    "    Neighborhood = set()\n",
    "    suffix_neighbors = Neighbors(Pattern[1:],d)\n",
    "    for p in suffix_neighbors:\n",
    "        if HammingDistnace(Pattern[1:],p)<d:\n",
    "            for x in 'ACTG':\n",
    "                Neighborhood.add(x+p)\n",
    "                \n",
    "        else:\n",
    "            Neighborhood.add(Pattern[0]+p)\n",
    "    return Neighborhood\n",
    "    "
   ]
  },
  {
   "cell_type": "code",
   "execution_count": 23,
   "metadata": {},
   "outputs": [
    {
     "data": {
      "text/plain": [
       "{'AAG', 'ACA', 'ACC', 'ACG', 'ACT', 'AGG', 'ATG', 'CCG', 'GCG', 'TCG'}"
      ]
     },
     "execution_count": 23,
     "metadata": {},
     "output_type": "execute_result"
    }
   ],
   "source": [
    "Neighbors('ACG',1)"
   ]
  },
  {
   "cell_type": "code",
   "execution_count": 27,
   "metadata": {},
   "outputs": [],
   "source": [
    "def FreqWordsWithmismatches(dna,k,d):\n",
    "    freq_patterns = set()\n",
    "    freq_dict = {}\n",
    "    n=len(dna)\n",
    "    for i in range(0,n-k+1):\n",
    "        k_mer = dna[i:i+k]\n",
    "        neighborhood = Neighbors(k_mer,d)\n",
    "        for p in neighborhood:\n",
    "            if p in freq_dict:\n",
    "                freq_dict[p] +=1\n",
    "            else:\n",
    "                freq_dict[p]=1\n",
    "                \n",
    "    max_count = max(freq_dict.values())\n",
    "    for p,count in freq_dict.items():\n",
    "        if count == max_count:\n",
    "            freq_patterns.add(p)\n",
    "    \n",
    "    return freq_patterns"
   ]
  },
  {
   "cell_type": "code",
   "execution_count": 28,
   "metadata": {},
   "outputs": [
    {
     "data": {
      "text/plain": [
       "{'ATGC', 'ATGT', 'GATG'}"
      ]
     },
     "execution_count": 28,
     "metadata": {},
     "output_type": "execute_result"
    }
   ],
   "source": [
    "dna='ACGTTGCATGTCGCATGATGCATGAGAGCT'\n",
    "k=4\n",
    "d=1\n",
    "FreqWordsWithmismatches(dna,k,d)"
   ]
  },
  {
   "cell_type": "code",
   "execution_count": null,
   "metadata": {},
   "outputs": [],
   "source": []
  }
 ],
 "metadata": {
  "interpreter": {
   "hash": "e922dd073470bdcc017ae3abd31d6491d6ed7bf31c1d559806e5511bfea88b81"
  },
  "kernelspec": {
   "display_name": "Python 3.9.7 64-bit",
   "language": "python",
   "name": "python3"
  },
  "language_info": {
   "codemirror_mode": {
    "name": "ipython",
    "version": 3
   },
   "file_extension": ".py",
   "mimetype": "text/x-python",
   "name": "python",
   "nbconvert_exporter": "python",
   "pygments_lexer": "ipython3",
   "version": "3.9.7"
  },
  "orig_nbformat": 4
 },
 "nbformat": 4,
 "nbformat_minor": 2
}
