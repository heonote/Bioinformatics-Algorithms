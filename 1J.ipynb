{
 "cells": [
  {
   "cell_type": "markdown",
   "metadata": {},
   "source": [
    "### <span style = 'color:green'> 미스매치와 역상보의 빈번한 단어 문제 </span>\n",
    "\n",
    "문자열에서 미스매치와 역상보를 고려해 가장 빈번한 k-mer를 찾으시오\n",
    "\n",
    "- 입력: 문자열 Text와 정수k와 d\n",
    "- 출력: Count_d(Text,Pattern) + Count_d(Text,C_Pattern)을 최대화하는 모든 k-mer\n"
   ]
  },
  {
   "cell_type": "code",
   "execution_count": 4,
   "metadata": {},
   "outputs": [],
   "source": [
    "def FindComplement(DNA):\n",
    "    complement=''\n",
    "    for i in DNA:\n",
    "        comp={'A':'T', 'T':'A', 'C':'G', 'G':'C'}[i]\n",
    "        complement+=comp\n",
    "    return complement[::-1]\n",
    "\n",
    "def HammingDistnace(P,Q):\n",
    "    distance=0\n",
    "    if len(P) != len(Q):\n",
    "        print(\"The size of the two DNA aren't same!\")\n",
    "    \n",
    "    else:\n",
    "        for i in range (0,len(P)):\n",
    "            if P[i] == Q[i]:\n",
    "                distance += 0\n",
    "            else:\n",
    "                distance += 1  \n",
    "                \n",
    "    return distance\n",
    "\n",
    "\n",
    "def Neighbors(Pattern,d):\n",
    "    if d==0:\n",
    "        return Pattern\n",
    "    if len(Pattern) == 1:\n",
    "        return {'A','C','G','T'}\n",
    "    Neighborhood = set()\n",
    "    suffix_neighbors = Neighbors(Pattern[1:],d)\n",
    "    for p in suffix_neighbors:\n",
    "        if HammingDistnace(Pattern[1:],p)<d:\n",
    "            for x in 'ACTG':\n",
    "                Neighborhood.add(x+p)\n",
    "                \n",
    "        else:\n",
    "            Neighborhood.add(Pattern[0]+p)\n",
    "    return Neighborhood\n",
    "\n",
    "\n",
    "def FreqWordsWithComplement(s, k, d):\n",
    "    freq_patterns = set()\n",
    "    freq_dict = {}\n",
    "    n = len(s)\n",
    "    for i in range(n - k + 1):\n",
    "        k_mer = s[i:i+k]\n",
    "        neighborhood = Neighbors(k_mer, d)\n",
    "        for p in neighborhood:\n",
    "            if p in freq_dict:\n",
    "                freq_dict[p] += 1\n",
    "            else:\n",
    "                freq_dict[p] = 1\n",
    "    max_count = 1\n",
    "    for p in freq_dict:\n",
    "        count = freq_dict[p]\n",
    "        p_comp = FindComplement(p)\n",
    "        if p_comp in freq_dict:\n",
    "            count += freq_dict[p_comp]\n",
    "        if count > max_count:\n",
    "            max_count = count\n",
    "    for p, count in freq_dict.items():\n",
    "        p_comp = FindComplement(p)\n",
    "        if p_comp in freq_dict:\n",
    "            count += freq_dict[p_comp]\n",
    "        if count == max_count:\n",
    "            freq_patterns.add(p)\n",
    "    return freq_patterns"
   ]
  },
  {
   "cell_type": "code",
   "execution_count": 5,
   "metadata": {},
   "outputs": [],
   "source": [
    "DNA='ACGTTGCATGTCGCATGATGCATGAGAGCT'\n",
    "k=4\n",
    "d=1"
   ]
  },
  {
   "cell_type": "code",
   "execution_count": 6,
   "metadata": {},
   "outputs": [
    {
     "data": {
      "text/plain": [
       "{'ACAT', 'ATGT'}"
      ]
     },
     "execution_count": 6,
     "metadata": {},
     "output_type": "execute_result"
    }
   ],
   "source": [
    "FreqWordsWithComplement(DNA,k,d)"
   ]
  },
  {
   "cell_type": "code",
   "execution_count": null,
   "metadata": {},
   "outputs": [],
   "source": []
  },
  {
   "cell_type": "code",
   "execution_count": null,
   "metadata": {},
   "outputs": [],
   "source": []
  }
 ],
 "metadata": {
  "interpreter": {
   "hash": "e922dd073470bdcc017ae3abd31d6491d6ed7bf31c1d559806e5511bfea88b81"
  },
  "kernelspec": {
   "display_name": "Python 3.9.7 64-bit",
   "language": "python",
   "name": "python3"
  },
  "language_info": {
   "codemirror_mode": {
    "name": "ipython",
    "version": 3
   },
   "file_extension": ".py",
   "mimetype": "text/x-python",
   "name": "python",
   "nbconvert_exporter": "python",
   "pygments_lexer": "ipython3",
   "version": "3.9.7"
  },
  "orig_nbformat": 4
 },
 "nbformat": 4,
 "nbformat_minor": 2
}
